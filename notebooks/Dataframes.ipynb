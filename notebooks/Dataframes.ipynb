{
 "cells": [
  {
   "cell_type": "markdown",
   "id": "6a23bd1f",
   "metadata": {},
   "source": [
    "# 0.0. Imports"
   ]
  },
  {
   "cell_type": "code",
   "execution_count": 1,
   "id": "a68156b3",
   "metadata": {
    "ExecuteTime": {
     "end_time": "2022-05-03T11:28:03.971260Z",
     "start_time": "2022-05-03T11:28:03.965275Z"
    }
   },
   "outputs": [],
   "source": [
    "# pip install pandas seaborn numpy matplotlib"
   ]
  },
  {
   "cell_type": "code",
   "execution_count": 2,
   "id": "db23c88e",
   "metadata": {
    "ExecuteTime": {
     "end_time": "2022-05-03T11:28:07.485175Z",
     "start_time": "2022-05-03T11:28:03.975249Z"
    }
   },
   "outputs": [],
   "source": [
    "import pandas as pd\n",
    "import seaborn as sns\n",
    "import numpy as np\n",
    "from matplotlib import pyplot as plt\n",
    "\n",
    "import pickle\n",
    "import os\n"
   ]
  },
  {
   "cell_type": "markdown",
   "id": "df8a2e0e",
   "metadata": {},
   "source": [
    "## 0.1. Helper Functions"
   ]
  },
  {
   "cell_type": "code",
   "execution_count": 3,
   "id": "884e25d1",
   "metadata": {
    "ExecuteTime": {
     "end_time": "2022-05-03T11:28:07.501125Z",
     "start_time": "2022-05-03T11:28:07.486114Z"
    }
   },
   "outputs": [],
   "source": [
    "def change_date(data, column):\n",
    "    data[column] = pd.to_datetime(data[column], format='%Y-%m-%d')\n",
    "    return data[column]\n",
    "\n",
    "def descrever(df):\n",
    "    num_attributes = df.select_dtypes(['int64', 'float64'])\n",
    "\n",
    "    mean = pd.DataFrame(num_attributes.apply(np.mean)).T\n",
    "    median = pd.DataFrame(num_attributes.apply(np.median)).T\n",
    "\n",
    "    min_ = pd.DataFrame(num_attributes.apply(np.min)).T\n",
    "    max_ = pd.DataFrame(num_attributes.apply(np.max)).T\n",
    "    std = pd.DataFrame(num_attributes.apply(np.std)).T\n",
    "    range_ =  pd.DataFrame(num_attributes.apply(lambda x: x.max() - x.min())).T\n",
    "    skew = pd.DataFrame(num_attributes.apply(lambda x: x.skew())).T\n",
    "    kurtosis  = pd.DataFrame(num_attributes.apply(lambda x: x.kurtosis())).T\n",
    "    unique  = pd.DataFrame(num_attributes.apply(lambda x: x.nunique())).T\n",
    "\n",
    "\n",
    "    metricas = pd.concat([ min_, max_, range_, mean, median, std, skew, kurtosis, unique]).T\n",
    "    metricas.columns = [ 'min', 'max', 'range', 'mean', 'median', 'std', 'skew', 'kurtosis', 'unique']\n",
    "    return metricas\n",
    "\n",
    "pd.set_option('display.max_rows', 500)\n",
    "pd.set_option('display.max_columns', 30)"
   ]
  },
  {
   "cell_type": "markdown",
   "id": "b73365bc",
   "metadata": {},
   "source": [
    "## 0.2. Load original datasets"
   ]
  },
  {
   "cell_type": "code",
   "execution_count": 50,
   "id": "5bbde2ad",
   "metadata": {
    "ExecuteTime": {
     "end_time": "2022-05-03T12:05:32.578991Z",
     "start_time": "2022-05-03T12:04:50.306865Z"
    }
   },
   "outputs": [],
   "source": [
    "df_geral = pd.read_csv('../data/portfolio_geral.csv', encoding='UTF-8')\n",
    "df_cliente = pd.read_csv('../data/portfolio_clientes.csv', encoding='UTF-8')\n",
    "df_comunicados = pd.read_csv('../data/portfolio_comunicados.csv', encoding='UTF-8')\n",
    "df_tpv = pd.read_csv('../data/portfolio_tpv.csv', encoding='UTF-8')\n"
   ]
  },
  {
   "cell_type": "markdown",
   "id": "5be54f07",
   "metadata": {},
   "source": [
    "# 1.0. Mudança de tipos"
   ]
  },
  {
   "cell_type": "code",
   "execution_count": 51,
   "id": "ba89f1a7",
   "metadata": {
    "ExecuteTime": {
     "end_time": "2022-05-03T12:05:41.160640Z",
     "start_time": "2022-05-03T12:05:33.330840Z"
    }
   },
   "outputs": [],
   "source": [
    "#mudança de tipos\n",
    "\n",
    "#dates\n",
    "dates = ['dt_contrato', 'dt_desembolso','dt_vencimento', 'dt_wo', 'dt_ref_portfolio' ]\n",
    "for date in dates:\n",
    "    df_geral[date] = change_date(df_geral, date)\n",
    "\n",
    "df_comunicados['data_acao'] = change_date(df_comunicados, 'data_acao')\n",
    "df_comunicados['dt_ref_portfolio'] = change_date(df_comunicados, 'dt_ref_portfolio')\n",
    "\n",
    "df_tpv['dt_transacao'] = pd.to_datetime(df_tpv['dt_transacao'], format='%Y%m%d')\n",
    "\n",
    "\n"
   ]
  },
  {
   "cell_type": "markdown",
   "id": "8d48b095",
   "metadata": {},
   "source": [
    "# 2.0. Tratamentos e Joins"
   ]
  },
  {
   "cell_type": "markdown",
   "id": "fb7e4378",
   "metadata": {},
   "source": [
    "## 2.1. Split portfolio geral"
   ]
  },
  {
   "cell_type": "code",
   "execution_count": 54,
   "id": "85faa821",
   "metadata": {
    "ExecuteTime": {
     "end_time": "2022-05-03T12:05:54.594994Z",
     "start_time": "2022-05-03T12:05:51.156311Z"
    }
   },
   "outputs": [],
   "source": [
    "#split geral -> geral e contrato\n",
    "df_contrato = df_geral[['contrato_id', 'nr_documento', 'safra', 'dt_contrato', 'dt_desembolso',\n",
    "                        'dt_vencimento','dt_wo', 'prazo', 'vlr_desembolsado',\n",
    "                        'vlr_tarifa', 'juros_mes','juros_diario']].drop_duplicates('contrato_id')\n",
    "\n",
    "df_geral = df_geral.drop(['safra', 'dt_contrato', 'dt_desembolso',\n",
    "                        'dt_vencimento','dt_wo', 'prazo', 'vlr_desembolsado',\n",
    "                        'vlr_tarifa', 'juros_mes','juros_diario'], axis=1)"
   ]
  },
  {
   "cell_type": "markdown",
   "id": "282095b1",
   "metadata": {},
   "source": [
    "## 2.2. Filtrar linhas do df_geral"
   ]
  },
  {
   "cell_type": "code",
   "execution_count": 55,
   "id": "cfab98fc",
   "metadata": {
    "ExecuteTime": {
     "end_time": "2022-05-03T12:06:12.924444Z",
     "start_time": "2022-05-03T12:05:55.211651Z"
    }
   },
   "outputs": [],
   "source": [
    "#filtrar geral -> manter somente primeira linha de settled\n",
    "\n",
    "#sort df_geral por id e date\n",
    "df_geral = df_geral.sort_values(['contrato_id', 'dt_ref_portfolio']).reset_index(drop=True)\n",
    "\n",
    "#pega todas linhas com status quitado\n",
    "aux = df_geral[df_geral['status_contrato']=='Settled']\n",
    "\n",
    "#pega data minima de cada contrato quitado\n",
    "aux0 = aux[['contrato_id', 'dt_ref_portfolio']].groupby('contrato_id').min().reset_index()\n",
    "\n",
    "#juntar outras features \n",
    "aux0 = pd.merge(aux0, df_geral, on=['contrato_id', 'dt_ref_portfolio'], how='inner')\n",
    "\n",
    "#remover todos status quitados de df_geral\n",
    "df_geral = df_geral[df_geral['status_contrato']!='Settled']\n",
    "\n",
    "#colocar de volta apenas o primeiro registro do contrato quitado\n",
    "df_geral = pd.concat([df_geral, aux0])\n",
    "\n"
   ]
  },
  {
   "cell_type": "code",
   "execution_count": 56,
   "id": "31d7b517",
   "metadata": {
    "ExecuteTime": {
     "end_time": "2022-05-03T12:06:18.350206Z",
     "start_time": "2022-05-03T12:06:13.495150Z"
    }
   },
   "outputs": [
    {
     "data": {
      "text/html": [
       "<div>\n",
       "<style scoped>\n",
       "    .dataframe tbody tr th:only-of-type {\n",
       "        vertical-align: middle;\n",
       "    }\n",
       "\n",
       "    .dataframe tbody tr th {\n",
       "        vertical-align: top;\n",
       "    }\n",
       "\n",
       "    .dataframe thead th {\n",
       "        text-align: right;\n",
       "    }\n",
       "</style>\n",
       "<table border=\"1\" class=\"dataframe\">\n",
       "  <thead>\n",
       "    <tr style=\"text-align: right;\">\n",
       "      <th></th>\n",
       "      <th>min</th>\n",
       "      <th>max</th>\n",
       "      <th>range</th>\n",
       "      <th>mean</th>\n",
       "      <th>median</th>\n",
       "      <th>std</th>\n",
       "      <th>skew</th>\n",
       "      <th>kurtosis</th>\n",
       "      <th>unique</th>\n",
       "    </tr>\n",
       "  </thead>\n",
       "  <tbody>\n",
       "    <tr>\n",
       "      <th>perc_retencao</th>\n",
       "      <td>0.0114</td>\n",
       "      <td>1.20</td>\n",
       "      <td>1.1886</td>\n",
       "      <td>0.207289</td>\n",
       "      <td>0.156</td>\n",
       "      <td>0.242711</td>\n",
       "      <td>3.425979</td>\n",
       "      <td>11.127067</td>\n",
       "      <td>2301.0</td>\n",
       "    </tr>\n",
       "    <tr>\n",
       "      <th>vlr_pgto_realizado</th>\n",
       "      <td>-3195.5600</td>\n",
       "      <td>210216.25</td>\n",
       "      <td>213411.8100</td>\n",
       "      <td>86.328751</td>\n",
       "      <td>0.000</td>\n",
       "      <td>452.963586</td>\n",
       "      <td>127.412612</td>\n",
       "      <td>35987.554675</td>\n",
       "      <td>111177.0</td>\n",
       "    </tr>\n",
       "    <tr>\n",
       "      <th>vlr_pgto_esperado</th>\n",
       "      <td>0.5700</td>\n",
       "      <td>1134.03</td>\n",
       "      <td>1133.4600</td>\n",
       "      <td>112.022508</td>\n",
       "      <td>70.700</td>\n",
       "      <td>124.339717</td>\n",
       "      <td>2.586350</td>\n",
       "      <td>8.586397</td>\n",
       "      <td>12604.0</td>\n",
       "    </tr>\n",
       "    <tr>\n",
       "      <th>vlr_saldo_devedor</th>\n",
       "      <td>-44613.3700</td>\n",
       "      <td>750102.75</td>\n",
       "      <td>794716.1200</td>\n",
       "      <td>29216.660267</td>\n",
       "      <td>15216.420</td>\n",
       "      <td>41036.658143</td>\n",
       "      <td>3.663851</td>\n",
       "      <td>21.157096</td>\n",
       "      <td>2878673.0</td>\n",
       "    </tr>\n",
       "    <tr>\n",
       "      <th>vlr_saldo_devedor_esperado</th>\n",
       "      <td>0.0000</td>\n",
       "      <td>401338.69</td>\n",
       "      <td>401338.6900</td>\n",
       "      <td>19754.802032</td>\n",
       "      <td>9216.805</td>\n",
       "      <td>30367.406702</td>\n",
       "      <td>3.450363</td>\n",
       "      <td>16.585532</td>\n",
       "      <td>2948472.0</td>\n",
       "    </tr>\n",
       "    <tr>\n",
       "      <th>dsp</th>\n",
       "      <td>0.0000</td>\n",
       "      <td>791.00</td>\n",
       "      <td>791.0000</td>\n",
       "      <td>21.725396</td>\n",
       "      <td>1.000</td>\n",
       "      <td>62.933864</td>\n",
       "      <td>4.474875</td>\n",
       "      <td>24.865537</td>\n",
       "      <td>792.0</td>\n",
       "    </tr>\n",
       "    <tr>\n",
       "      <th>dspp</th>\n",
       "      <td>0.0000</td>\n",
       "      <td>833.00</td>\n",
       "      <td>833.0000</td>\n",
       "      <td>58.527839</td>\n",
       "      <td>3.000</td>\n",
       "      <td>114.092322</td>\n",
       "      <td>2.513723</td>\n",
       "      <td>6.531199</td>\n",
       "      <td>834.0</td>\n",
       "    </tr>\n",
       "    <tr>\n",
       "      <th>flag_transacao</th>\n",
       "      <td>0.0000</td>\n",
       "      <td>1.00</td>\n",
       "      <td>1.0000</td>\n",
       "      <td>0.568374</td>\n",
       "      <td>1.000</td>\n",
       "      <td>0.495303</td>\n",
       "      <td>-0.276088</td>\n",
       "      <td>-1.923776</td>\n",
       "      <td>2.0</td>\n",
       "    </tr>\n",
       "  </tbody>\n",
       "</table>\n",
       "</div>"
      ],
      "text/plain": [
       "                                   min        max        range          mean  \\\n",
       "perc_retencao                   0.0114       1.20       1.1886      0.207289   \n",
       "vlr_pgto_realizado          -3195.5600  210216.25  213411.8100     86.328751   \n",
       "vlr_pgto_esperado               0.5700    1134.03    1133.4600    112.022508   \n",
       "vlr_saldo_devedor          -44613.3700  750102.75  794716.1200  29216.660267   \n",
       "vlr_saldo_devedor_esperado      0.0000  401338.69  401338.6900  19754.802032   \n",
       "dsp                             0.0000     791.00     791.0000     21.725396   \n",
       "dspp                            0.0000     833.00     833.0000     58.527839   \n",
       "flag_transacao                  0.0000       1.00       1.0000      0.568374   \n",
       "\n",
       "                               median           std        skew      kurtosis  \\\n",
       "perc_retencao                   0.156      0.242711    3.425979     11.127067   \n",
       "vlr_pgto_realizado              0.000    452.963586  127.412612  35987.554675   \n",
       "vlr_pgto_esperado              70.700    124.339717    2.586350      8.586397   \n",
       "vlr_saldo_devedor           15216.420  41036.658143    3.663851     21.157096   \n",
       "vlr_saldo_devedor_esperado   9216.805  30367.406702    3.450363     16.585532   \n",
       "dsp                             1.000     62.933864    4.474875     24.865537   \n",
       "dspp                            3.000    114.092322    2.513723      6.531199   \n",
       "flag_transacao                  1.000      0.495303   -0.276088     -1.923776   \n",
       "\n",
       "                               unique  \n",
       "perc_retencao                  2301.0  \n",
       "vlr_pgto_realizado           111177.0  \n",
       "vlr_pgto_esperado             12604.0  \n",
       "vlr_saldo_devedor           2878673.0  \n",
       "vlr_saldo_devedor_esperado  2948472.0  \n",
       "dsp                             792.0  \n",
       "dspp                            834.0  \n",
       "flag_transacao                    2.0  "
      ]
     },
     "execution_count": 56,
     "metadata": {},
     "output_type": "execute_result"
    }
   ],
   "source": [
    "#encontrar dados estranhos\n",
    "descrever(df_geral)"
   ]
  },
  {
   "cell_type": "code",
   "execution_count": 57,
   "id": "2385e3e2",
   "metadata": {
    "ExecuteTime": {
     "end_time": "2022-05-03T12:06:20.380835Z",
     "start_time": "2022-05-03T12:06:18.953684Z"
    }
   },
   "outputs": [
    {
     "name": "stdout",
     "output_type": "stream",
     "text": [
      "Linhas removidas para valores de pagamento negativo: 23\n",
      "Linhas removidas para valores de pagamento negativo: 1591\n"
     ]
    }
   ],
   "source": [
    "#limpar dados estranhos\n",
    "\n",
    "# vlr_pgto_realizado<0\n",
    "linhas = len(df_geral[df_geral['vlr_pgto_realizado']<0])\n",
    "print(f'Linhas removidas para valores de pagamento negativo: {linhas}')\n",
    "df_geral = df_geral[df_geral['vlr_pgto_realizado']>=0]\n",
    "\n",
    "# vlr_saldo_devedor <0\n",
    "linhas = len(df_geral[df_geral['vlr_saldo_devedor']<0])\n",
    "print(f'Linhas removidas para valores de pagamento negativo: {linhas}')\n",
    "df_geral = df_geral[df_geral['vlr_saldo_devedor']>=0]\n",
    "\n",
    "\n",
    "# df_geral[df_geral['vlr_saldo_devedor']<0]"
   ]
  },
  {
   "cell_type": "markdown",
   "id": "76a7998c",
   "metadata": {},
   "source": [
    "## 2.3. Merge -  portifólio geral e de comunicados"
   ]
  },
  {
   "cell_type": "code",
   "execution_count": 58,
   "id": "e4b57833",
   "metadata": {
    "ExecuteTime": {
     "end_time": "2022-05-03T12:06:24.952227Z",
     "start_time": "2022-05-03T12:06:20.951895Z"
    }
   },
   "outputs": [],
   "source": [
    "#merge geral e comunicados\n",
    "df_geral_comunicado = pd.merge(df_geral, df_comunicados, on=['contrato_id', 'dt_ref_portfolio'], how='left')\n"
   ]
  },
  {
   "cell_type": "markdown",
   "id": "948457d9",
   "metadata": {},
   "source": [
    "## 2.4. Merge - portfólio geral e de tpv"
   ]
  },
  {
   "cell_type": "code",
   "execution_count": 59,
   "id": "09e48e41",
   "metadata": {
    "ExecuteTime": {
     "end_time": "2022-05-03T12:06:26.375092Z",
     "start_time": "2022-05-03T12:06:25.569952Z"
    }
   },
   "outputs": [
    {
     "data": {
      "text/html": [
       "<div>\n",
       "<style scoped>\n",
       "    .dataframe tbody tr th:only-of-type {\n",
       "        vertical-align: middle;\n",
       "    }\n",
       "\n",
       "    .dataframe tbody tr th {\n",
       "        vertical-align: top;\n",
       "    }\n",
       "\n",
       "    .dataframe thead th {\n",
       "        text-align: right;\n",
       "    }\n",
       "</style>\n",
       "<table border=\"1\" class=\"dataframe\">\n",
       "  <thead>\n",
       "    <tr style=\"text-align: right;\">\n",
       "      <th></th>\n",
       "      <th>min</th>\n",
       "      <th>max</th>\n",
       "      <th>range</th>\n",
       "      <th>mean</th>\n",
       "      <th>median</th>\n",
       "      <th>std</th>\n",
       "      <th>skew</th>\n",
       "      <th>kurtosis</th>\n",
       "      <th>unique</th>\n",
       "    </tr>\n",
       "  </thead>\n",
       "  <tbody>\n",
       "    <tr>\n",
       "      <th>qtd_transacoes</th>\n",
       "      <td>-2.0</td>\n",
       "      <td>1245.00</td>\n",
       "      <td>1247.00</td>\n",
       "      <td>15.906579</td>\n",
       "      <td>7.0</td>\n",
       "      <td>26.153359</td>\n",
       "      <td>6.003932</td>\n",
       "      <td>70.753434</td>\n",
       "      <td>705.0</td>\n",
       "    </tr>\n",
       "    <tr>\n",
       "      <th>vlr_tpv</th>\n",
       "      <td>-125000.0</td>\n",
       "      <td>176880.93</td>\n",
       "      <td>301880.93</td>\n",
       "      <td>887.497885</td>\n",
       "      <td>430.0</td>\n",
       "      <td>1664.209969</td>\n",
       "      <td>10.497490</td>\n",
       "      <td>362.253612</td>\n",
       "      <td>492049.0</td>\n",
       "    </tr>\n",
       "  </tbody>\n",
       "</table>\n",
       "</div>"
      ],
      "text/plain": [
       "                     min        max      range        mean  median  \\\n",
       "qtd_transacoes      -2.0    1245.00    1247.00   15.906579     7.0   \n",
       "vlr_tpv        -125000.0  176880.93  301880.93  887.497885   430.0   \n",
       "\n",
       "                        std       skew    kurtosis    unique  \n",
       "qtd_transacoes    26.153359   6.003932   70.753434     705.0  \n",
       "vlr_tpv         1664.209969  10.497490  362.253612  492049.0  "
      ]
     },
     "execution_count": 59,
     "metadata": {},
     "output_type": "execute_result"
    }
   ],
   "source": [
    "#encontrar dados estranhos tpv\n",
    "descrever(df_tpv)"
   ]
  },
  {
   "cell_type": "code",
   "execution_count": 60,
   "id": "9edabfe3",
   "metadata": {
    "ExecuteTime": {
     "end_time": "2022-05-03T12:06:27.419756Z",
     "start_time": "2022-05-03T12:06:26.995888Z"
    }
   },
   "outputs": [
    {
     "name": "stdout",
     "output_type": "stream",
     "text": [
      "Linhas removidas para valores de quantidade de transação negativo: 7\n",
      "Linhas removidas para valores de transação de transação negativo: 1238\n"
     ]
    }
   ],
   "source": [
    "#limpar dados estranhos\n",
    "linhas = len(df_tpv[df_tpv['qtd_transacoes']<0])\n",
    "print(f'Linhas removidas para valores de quantidade de transação negativo: {linhas}')\n",
    "df_tpv = df_tpv[df_tpv['qtd_transacoes']>=0]\n",
    "\n",
    "linhas = len(df_tpv[df_tpv['vlr_tpv']<0])\n",
    "print(f'Linhas removidas para valores de transação de transação negativo: {linhas}')\n",
    "df_tpv = df_tpv[df_tpv['vlr_tpv']>=0]\n"
   ]
  },
  {
   "cell_type": "code",
   "execution_count": 61,
   "id": "63a345be",
   "metadata": {
    "ExecuteTime": {
     "end_time": "2022-05-03T12:06:32.617999Z",
     "start_time": "2022-05-03T12:06:28.048221Z"
    }
   },
   "outputs": [],
   "source": [
    "#merge geral e tpv\n",
    "df_geral = pd.merge(df_geral, df_tpv.rename(columns = {'dt_transacao':'dt_ref_portfolio'}), on=['nr_documento', 'dt_ref_portfolio'], how='left')\n",
    "df_geral = df_geral.fillna(0)"
   ]
  },
  {
   "cell_type": "markdown",
   "id": "2d8a5a06",
   "metadata": {},
   "source": [
    "## 2.5. Merge - df_contrato e portfólio de clientes\n"
   ]
  },
  {
   "cell_type": "code",
   "execution_count": 64,
   "id": "53538418",
   "metadata": {
    "ExecuteTime": {
     "end_time": "2022-05-03T12:06:55.237574Z",
     "start_time": "2022-05-03T12:06:55.197253Z"
    }
   },
   "outputs": [],
   "source": [
    "#merge contratos e clientes\n",
    "df_contrato = pd.merge(df_contrato, df_cliente, on='nr_documento', how='inner')"
   ]
  },
  {
   "cell_type": "markdown",
   "id": "7ebac0e5",
   "metadata": {},
   "source": [
    "# 3.0. Feature Engineering"
   ]
  },
  {
   "cell_type": "markdown",
   "id": "f97d7a22",
   "metadata": {},
   "source": [
    "### 3.1. Features em df_geral"
   ]
  },
  {
   "cell_type": "code",
   "execution_count": 65,
   "id": "aca62c08",
   "metadata": {
    "ExecuteTime": {
     "end_time": "2022-05-03T12:06:55.964184Z",
     "start_time": "2022-05-03T12:06:55.854985Z"
    }
   },
   "outputs": [],
   "source": [
    "#valor debitado desconsiderando pagamento \n",
    "df_geral['debito_sem_pagamento'] = df_geral['vlr_saldo_devedor'] + df_geral['vlr_pgto_realizado']\n",
    "\n",
    "\n",
    "#valor pago tpv = valor * perc_retencao/100\n",
    "df_geral['valor_pago_tpv'] = df_geral['vlr_tpv'] * df_geral['perc_retencao']/100\n"
   ]
  },
  {
   "cell_type": "code",
   "execution_count": 66,
   "id": "883533e0",
   "metadata": {
    "ExecuteTime": {
     "end_time": "2022-05-03T12:06:56.645484Z",
     "start_time": "2022-05-03T12:06:56.615563Z"
    }
   },
   "outputs": [
    {
     "data": {
      "text/html": [
       "<div>\n",
       "<style scoped>\n",
       "    .dataframe tbody tr th:only-of-type {\n",
       "        vertical-align: middle;\n",
       "    }\n",
       "\n",
       "    .dataframe tbody tr th {\n",
       "        vertical-align: top;\n",
       "    }\n",
       "\n",
       "    .dataframe thead th {\n",
       "        text-align: right;\n",
       "    }\n",
       "</style>\n",
       "<table border=\"1\" class=\"dataframe\">\n",
       "  <thead>\n",
       "    <tr style=\"text-align: right;\">\n",
       "      <th></th>\n",
       "      <th>contrato_id</th>\n",
       "      <th>dt_ref_portfolio</th>\n",
       "      <th>nr_documento</th>\n",
       "      <th>status_contrato</th>\n",
       "      <th>perc_retencao</th>\n",
       "      <th>vlr_pgto_realizado</th>\n",
       "      <th>vlr_pgto_esperado</th>\n",
       "      <th>vlr_saldo_devedor</th>\n",
       "      <th>vlr_saldo_devedor_esperado</th>\n",
       "      <th>dsp</th>\n",
       "      <th>dspp</th>\n",
       "      <th>flag_transacao</th>\n",
       "      <th>qtd_transacoes</th>\n",
       "      <th>vlr_tpv</th>\n",
       "      <th>debito_sem_pagamento</th>\n",
       "      <th>valor_pago_tpv</th>\n",
       "    </tr>\n",
       "  </thead>\n",
       "  <tbody>\n",
       "    <tr>\n",
       "      <th>0</th>\n",
       "      <td>000180509391a5ac66ff83cae603ffb8</td>\n",
       "      <td>2020-06-15</td>\n",
       "      <td>7996daab1bbe000bb5d1cc1bf317f390</td>\n",
       "      <td>Active</td>\n",
       "      <td>0.096</td>\n",
       "      <td>0.00</td>\n",
       "      <td>27.45</td>\n",
       "      <td>6932.34</td>\n",
       "      <td>6924.81</td>\n",
       "      <td>0</td>\n",
       "      <td>0</td>\n",
       "      <td>0</td>\n",
       "      <td>0.0</td>\n",
       "      <td>0.0</td>\n",
       "      <td>6932.34</td>\n",
       "      <td>0.00000</td>\n",
       "    </tr>\n",
       "    <tr>\n",
       "      <th>1</th>\n",
       "      <td>000180509391a5ac66ff83cae603ffb8</td>\n",
       "      <td>2020-06-16</td>\n",
       "      <td>7996daab1bbe000bb5d1cc1bf317f390</td>\n",
       "      <td>Active</td>\n",
       "      <td>0.096</td>\n",
       "      <td>0.00</td>\n",
       "      <td>27.45</td>\n",
       "      <td>6952.26</td>\n",
       "      <td>6917.27</td>\n",
       "      <td>1</td>\n",
       "      <td>1</td>\n",
       "      <td>1</td>\n",
       "      <td>6.0</td>\n",
       "      <td>191.5</td>\n",
       "      <td>6952.26</td>\n",
       "      <td>0.18384</td>\n",
       "    </tr>\n",
       "    <tr>\n",
       "      <th>2</th>\n",
       "      <td>000180509391a5ac66ff83cae603ffb8</td>\n",
       "      <td>2020-06-17</td>\n",
       "      <td>7996daab1bbe000bb5d1cc1bf317f390</td>\n",
       "      <td>Active</td>\n",
       "      <td>0.096</td>\n",
       "      <td>25.43</td>\n",
       "      <td>27.45</td>\n",
       "      <td>6946.81</td>\n",
       "      <td>6909.70</td>\n",
       "      <td>0</td>\n",
       "      <td>2</td>\n",
       "      <td>1</td>\n",
       "      <td>11.0</td>\n",
       "      <td>311.5</td>\n",
       "      <td>6972.24</td>\n",
       "      <td>0.29904</td>\n",
       "    </tr>\n",
       "    <tr>\n",
       "      <th>3</th>\n",
       "      <td>000180509391a5ac66ff83cae603ffb8</td>\n",
       "      <td>2020-06-18</td>\n",
       "      <td>7996daab1bbe000bb5d1cc1bf317f390</td>\n",
       "      <td>Active</td>\n",
       "      <td>0.096</td>\n",
       "      <td>41.40</td>\n",
       "      <td>27.45</td>\n",
       "      <td>6925.38</td>\n",
       "      <td>6902.11</td>\n",
       "      <td>0</td>\n",
       "      <td>0</td>\n",
       "      <td>1</td>\n",
       "      <td>16.0</td>\n",
       "      <td>464.0</td>\n",
       "      <td>6966.78</td>\n",
       "      <td>0.44544</td>\n",
       "    </tr>\n",
       "    <tr>\n",
       "      <th>4</th>\n",
       "      <td>000180509391a5ac66ff83cae603ffb8</td>\n",
       "      <td>2020-06-19</td>\n",
       "      <td>7996daab1bbe000bb5d1cc1bf317f390</td>\n",
       "      <td>Active</td>\n",
       "      <td>0.096</td>\n",
       "      <td>61.49</td>\n",
       "      <td>27.45</td>\n",
       "      <td>6883.79</td>\n",
       "      <td>6894.50</td>\n",
       "      <td>0</td>\n",
       "      <td>0</td>\n",
       "      <td>1</td>\n",
       "      <td>18.0</td>\n",
       "      <td>595.0</td>\n",
       "      <td>6945.28</td>\n",
       "      <td>0.57120</td>\n",
       "    </tr>\n",
       "  </tbody>\n",
       "</table>\n",
       "</div>"
      ],
      "text/plain": [
       "                        contrato_id dt_ref_portfolio  \\\n",
       "0  000180509391a5ac66ff83cae603ffb8       2020-06-15   \n",
       "1  000180509391a5ac66ff83cae603ffb8       2020-06-16   \n",
       "2  000180509391a5ac66ff83cae603ffb8       2020-06-17   \n",
       "3  000180509391a5ac66ff83cae603ffb8       2020-06-18   \n",
       "4  000180509391a5ac66ff83cae603ffb8       2020-06-19   \n",
       "\n",
       "                       nr_documento status_contrato  perc_retencao  \\\n",
       "0  7996daab1bbe000bb5d1cc1bf317f390          Active          0.096   \n",
       "1  7996daab1bbe000bb5d1cc1bf317f390          Active          0.096   \n",
       "2  7996daab1bbe000bb5d1cc1bf317f390          Active          0.096   \n",
       "3  7996daab1bbe000bb5d1cc1bf317f390          Active          0.096   \n",
       "4  7996daab1bbe000bb5d1cc1bf317f390          Active          0.096   \n",
       "\n",
       "   vlr_pgto_realizado  vlr_pgto_esperado  vlr_saldo_devedor  \\\n",
       "0                0.00              27.45            6932.34   \n",
       "1                0.00              27.45            6952.26   \n",
       "2               25.43              27.45            6946.81   \n",
       "3               41.40              27.45            6925.38   \n",
       "4               61.49              27.45            6883.79   \n",
       "\n",
       "   vlr_saldo_devedor_esperado  dsp  dspp  flag_transacao  qtd_transacoes  \\\n",
       "0                     6924.81    0     0               0             0.0   \n",
       "1                     6917.27    1     1               1             6.0   \n",
       "2                     6909.70    0     2               1            11.0   \n",
       "3                     6902.11    0     0               1            16.0   \n",
       "4                     6894.50    0     0               1            18.0   \n",
       "\n",
       "   vlr_tpv  debito_sem_pagamento  valor_pago_tpv  \n",
       "0      0.0               6932.34         0.00000  \n",
       "1    191.5               6952.26         0.18384  \n",
       "2    311.5               6972.24         0.29904  \n",
       "3    464.0               6966.78         0.44544  \n",
       "4    595.0               6945.28         0.57120  "
      ]
     },
     "execution_count": 66,
     "metadata": {},
     "output_type": "execute_result"
    }
   ],
   "source": [
    "df_geral.head()"
   ]
  },
  {
   "cell_type": "markdown",
   "id": "860d88ad",
   "metadata": {
    "ExecuteTime": {
     "end_time": "2022-05-02T20:05:39.147805Z",
     "start_time": "2022-05-02T20:05:38.799117Z"
    }
   },
   "source": [
    "### 3.2. Features em df_contrato"
   ]
  },
  {
   "cell_type": "code",
   "execution_count": 67,
   "id": "2842c1fb",
   "metadata": {
    "ExecuteTime": {
     "end_time": "2022-05-03T12:07:14.810267Z",
     "start_time": "2022-05-03T12:06:58.244313Z"
    }
   },
   "outputs": [],
   "source": [
    "#extrair ultima data de cada contrato\n",
    "last_date = df_geral[['contrato_id', 'dt_ref_portfolio']].groupby('contrato_id').max().reset_index()\n",
    "last_date = pd.merge(last_date, df_geral[['contrato_id', 'dt_ref_portfolio','status_contrato']], on=['contrato_id', 'dt_ref_portfolio'], how='inner')\n",
    "\n",
    "# #conseguir o ultimo status de contrato\n",
    "df_contrato = pd.merge(df_contrato, last_date.drop('dt_ref_portfolio', axis=1), on='contrato_id', how='inner')\n",
    "\n",
    "#mean dsp / contrato\n",
    "aux = df_geral[['dsp', 'contrato_id']].groupby('contrato_id').mean().reset_index()\n",
    "df_contrato = pd.merge(df_contrato, aux, on='contrato_id', how='left')\n",
    "\n",
    "#mean dspp / contrato\n",
    "aux = df_geral[['dspp', 'contrato_id']].groupby('contrato_id').mean().reset_index()\n",
    "df_contrato = pd.merge(df_contrato, aux, on='contrato_id', how='left')\n",
    "\n",
    "#sum vlr pago realizado / contrato\n",
    "aux = df_geral[['vlr_pgto_realizado', 'contrato_id']].groupby('contrato_id').sum().reset_index()\n",
    "df_contrato = pd.merge(df_contrato, aux, on='contrato_id', how='left')\n",
    "\n",
    "#sum vlr pago tpv realizado / contrato\n",
    "aux = df_geral[['valor_pago_tpv', 'contrato_id']].groupby('contrato_id').sum().reset_index()\n",
    "df_contrato = pd.merge(df_contrato, aux, on='contrato_id', how='left')\n",
    "\n",
    "#valor total pago / contrato\n",
    "df_contrato['valor_total_pago'] = df_contrato['vlr_pgto_realizado'] + df_contrato['valor_pago_tpv']\n",
    "\n",
    "#valor final que deveria ser pago desconsiderando pagamento\n",
    "aux = df_geral[['debito_sem_pagamento','contrato_id']].groupby('contrato_id').max().reset_index()\n",
    "df_contrato = pd.merge(df_contrato, aux, on='contrato_id', how='left')\n",
    "\n",
    "#dias esperado de contrato\n",
    "df_contrato['tempo_esperado'] = (df_contrato['dt_vencimento'] - df_contrato['dt_desembolso']).dt.days\n",
    "\n",
    "# # #dias efetivos de contrato \n",
    "aux = df_geral[['contrato_id', 'dt_ref_portfolio']].groupby('contrato_id').count().rename(columns={'dt_ref_portfolio': 'dias_de_contrato'}).reset_index()\n",
    "df_contrato = pd.merge(df_contrato, aux, on='contrato_id', how='left')\n",
    "\n",
    "#acoes totais\n",
    "aux = df_geral_comunicado[['contrato_id', 'status']].groupby('contrato_id').count().reset_index().rename(columns={'status': 'n_acoes_total'})\n",
    "df_contrato = pd.merge(df_contrato, aux, on='contrato_id', how='inner')\n",
    "\n",
    "# #acoes entregues\n",
    "aux = df_geral_comunicado [df_geral_comunicado['status']!='NAO ENTREGUE'] [['contrato_id', 'status']].groupby('contrato_id').count().reset_index().rename(columns={'status': 'n_acoes_entregues'})\n",
    "df_contrato = pd.merge(df_contrato, aux, on='contrato_id', how='inner')"
   ]
  },
  {
   "cell_type": "markdown",
   "id": "98f507be",
   "metadata": {
    "ExecuteTime": {
     "end_time": "2022-05-02T20:33:51.477241Z",
     "start_time": "2022-05-02T20:33:51.467319Z"
    }
   },
   "source": [
    "# 4.0. Criação de tabelas"
   ]
  },
  {
   "cell_type": "markdown",
   "id": "25e49d45",
   "metadata": {},
   "source": [
    "## 4.1. Criação da df_mensagem"
   ]
  },
  {
   "cell_type": "markdown",
   "id": "5a1c8919",
   "metadata": {},
   "source": [
    "Um dataframe chamado df_mensagem foi criado apenas com as linhas do df_geral que continha uma comunicação com status diferente de “NAO ENTREGUE” e os 5 registros seguintes. O objetivo desse dataframe é observar o efeito da comunicação nos 5 dias seguintes, através do dsp e dspp. Dessa vez o enfoque é descobrir a curva ideal de vezes que se deve acionar o cliente.\n"
   ]
  },
  {
   "cell_type": "code",
   "execution_count": 68,
   "id": "24aac7fd",
   "metadata": {
    "ExecuteTime": {
     "end_time": "2022-05-03T12:08:36.178001Z",
     "start_time": "2022-05-03T12:07:15.444344Z"
    }
   },
   "outputs": [
    {
     "ename": "KeyboardInterrupt",
     "evalue": "",
     "output_type": "error",
     "traceback": [
      "\u001b[1;31m---------------------------------------------------------------------------\u001b[0m",
      "\u001b[1;31mKeyboardInterrupt\u001b[0m                         Traceback (most recent call last)",
      "\u001b[1;32m<ipython-input-68-077446f5c9d7>\u001b[0m in \u001b[0;36m<module>\u001b[1;34m\u001b[0m\n\u001b[0;32m     39\u001b[0m                 \u001b[1;32mif\u001b[0m \u001b[0mdf_mensagem\u001b[0m\u001b[1;33m.\u001b[0m\u001b[0mloc\u001b[0m\u001b[1;33m[\u001b[0m\u001b[0mi2\u001b[0m\u001b[1;33m,\u001b[0m \u001b[1;34m'dsp'\u001b[0m\u001b[1;33m]\u001b[0m\u001b[1;33m==\u001b[0m\u001b[1;36m0\u001b[0m\u001b[1;33m:\u001b[0m\u001b[1;33m\u001b[0m\u001b[1;33m\u001b[0m\u001b[0m\n\u001b[0;32m     40\u001b[0m \u001b[1;33m\u001b[0m\u001b[0m\n\u001b[1;32m---> 41\u001b[1;33m                     \u001b[0mdf_mensagem\u001b[0m\u001b[1;33m.\u001b[0m\u001b[0mloc\u001b[0m\u001b[1;33m[\u001b[0m\u001b[0mi\u001b[0m\u001b[1;33m,\u001b[0m\u001b[1;34m'eficiencia'\u001b[0m\u001b[1;33m]\u001b[0m\u001b[1;33m=\u001b[0m\u001b[1;36m1\u001b[0m\u001b[1;33m\u001b[0m\u001b[1;33m\u001b[0m\u001b[0m\n\u001b[0m\u001b[0;32m     42\u001b[0m \u001b[1;33m\u001b[0m\u001b[0m\n\u001b[0;32m     43\u001b[0m                     \u001b[1;32mif\u001b[0m \u001b[0mdf_mensagem\u001b[0m\u001b[1;33m.\u001b[0m\u001b[0mloc\u001b[0m\u001b[1;33m[\u001b[0m\u001b[0mi2\u001b[0m\u001b[1;33m,\u001b[0m \u001b[1;34m'dspp'\u001b[0m\u001b[1;33m]\u001b[0m\u001b[1;33m==\u001b[0m\u001b[1;36m0\u001b[0m\u001b[1;33m:\u001b[0m\u001b[1;33m\u001b[0m\u001b[1;33m\u001b[0m\u001b[0m\n",
      "\u001b[1;32m~\\anaconda3\\lib\\site-packages\\pandas\\core\\indexing.py\u001b[0m in \u001b[0;36m__setitem__\u001b[1;34m(self, key, value)\u001b[0m\n\u001b[0;32m    690\u001b[0m \u001b[1;33m\u001b[0m\u001b[0m\n\u001b[0;32m    691\u001b[0m         \u001b[0miloc\u001b[0m \u001b[1;33m=\u001b[0m \u001b[0mself\u001b[0m \u001b[1;32mif\u001b[0m \u001b[0mself\u001b[0m\u001b[1;33m.\u001b[0m\u001b[0mname\u001b[0m \u001b[1;33m==\u001b[0m \u001b[1;34m\"iloc\"\u001b[0m \u001b[1;32melse\u001b[0m \u001b[0mself\u001b[0m\u001b[1;33m.\u001b[0m\u001b[0mobj\u001b[0m\u001b[1;33m.\u001b[0m\u001b[0miloc\u001b[0m\u001b[1;33m\u001b[0m\u001b[1;33m\u001b[0m\u001b[0m\n\u001b[1;32m--> 692\u001b[1;33m         \u001b[0miloc\u001b[0m\u001b[1;33m.\u001b[0m\u001b[0m_setitem_with_indexer\u001b[0m\u001b[1;33m(\u001b[0m\u001b[0mindexer\u001b[0m\u001b[1;33m,\u001b[0m \u001b[0mvalue\u001b[0m\u001b[1;33m,\u001b[0m \u001b[0mself\u001b[0m\u001b[1;33m.\u001b[0m\u001b[0mname\u001b[0m\u001b[1;33m)\u001b[0m\u001b[1;33m\u001b[0m\u001b[1;33m\u001b[0m\u001b[0m\n\u001b[0m\u001b[0;32m    693\u001b[0m \u001b[1;33m\u001b[0m\u001b[0m\n\u001b[0;32m    694\u001b[0m     \u001b[1;32mdef\u001b[0m \u001b[0m_validate_key\u001b[0m\u001b[1;33m(\u001b[0m\u001b[0mself\u001b[0m\u001b[1;33m,\u001b[0m \u001b[0mkey\u001b[0m\u001b[1;33m,\u001b[0m \u001b[0maxis\u001b[0m\u001b[1;33m:\u001b[0m \u001b[0mint\u001b[0m\u001b[1;33m)\u001b[0m\u001b[1;33m:\u001b[0m\u001b[1;33m\u001b[0m\u001b[1;33m\u001b[0m\u001b[0m\n",
      "\u001b[1;32m~\\anaconda3\\lib\\site-packages\\pandas\\core\\indexing.py\u001b[0m in \u001b[0;36m_setitem_with_indexer\u001b[1;34m(self, indexer, value, name)\u001b[0m\n\u001b[0;32m   1633\u001b[0m         \u001b[1;32mif\u001b[0m \u001b[0mtake_split_path\u001b[0m\u001b[1;33m:\u001b[0m\u001b[1;33m\u001b[0m\u001b[1;33m\u001b[0m\u001b[0m\n\u001b[0;32m   1634\u001b[0m             \u001b[1;31m# We have to operate column-wise\u001b[0m\u001b[1;33m\u001b[0m\u001b[1;33m\u001b[0m\u001b[1;33m\u001b[0m\u001b[0m\n\u001b[1;32m-> 1635\u001b[1;33m             \u001b[0mself\u001b[0m\u001b[1;33m.\u001b[0m\u001b[0m_setitem_with_indexer_split_path\u001b[0m\u001b[1;33m(\u001b[0m\u001b[0mindexer\u001b[0m\u001b[1;33m,\u001b[0m \u001b[0mvalue\u001b[0m\u001b[1;33m,\u001b[0m \u001b[0mname\u001b[0m\u001b[1;33m)\u001b[0m\u001b[1;33m\u001b[0m\u001b[1;33m\u001b[0m\u001b[0m\n\u001b[0m\u001b[0;32m   1636\u001b[0m         \u001b[1;32melse\u001b[0m\u001b[1;33m:\u001b[0m\u001b[1;33m\u001b[0m\u001b[1;33m\u001b[0m\u001b[0m\n\u001b[0;32m   1637\u001b[0m             \u001b[0mself\u001b[0m\u001b[1;33m.\u001b[0m\u001b[0m_setitem_single_block\u001b[0m\u001b[1;33m(\u001b[0m\u001b[0mindexer\u001b[0m\u001b[1;33m,\u001b[0m \u001b[0mvalue\u001b[0m\u001b[1;33m,\u001b[0m \u001b[0mname\u001b[0m\u001b[1;33m)\u001b[0m\u001b[1;33m\u001b[0m\u001b[1;33m\u001b[0m\u001b[0m\n",
      "\u001b[1;32m~\\anaconda3\\lib\\site-packages\\pandas\\core\\indexing.py\u001b[0m in \u001b[0;36m_setitem_with_indexer_split_path\u001b[1;34m(self, indexer, value, name)\u001b[0m\n\u001b[0;32m   1718\u001b[0m             \u001b[1;31m# scalar value\u001b[0m\u001b[1;33m\u001b[0m\u001b[1;33m\u001b[0m\u001b[1;33m\u001b[0m\u001b[0m\n\u001b[0;32m   1719\u001b[0m             \u001b[1;32mfor\u001b[0m \u001b[0mloc\u001b[0m \u001b[1;32min\u001b[0m \u001b[0milocs\u001b[0m\u001b[1;33m:\u001b[0m\u001b[1;33m\u001b[0m\u001b[1;33m\u001b[0m\u001b[0m\n\u001b[1;32m-> 1720\u001b[1;33m                 \u001b[0mself\u001b[0m\u001b[1;33m.\u001b[0m\u001b[0m_setitem_single_column\u001b[0m\u001b[1;33m(\u001b[0m\u001b[0mloc\u001b[0m\u001b[1;33m,\u001b[0m \u001b[0mvalue\u001b[0m\u001b[1;33m,\u001b[0m \u001b[0mpi\u001b[0m\u001b[1;33m)\u001b[0m\u001b[1;33m\u001b[0m\u001b[1;33m\u001b[0m\u001b[0m\n\u001b[0m\u001b[0;32m   1721\u001b[0m \u001b[1;33m\u001b[0m\u001b[0m\n\u001b[0;32m   1722\u001b[0m     \u001b[1;32mdef\u001b[0m \u001b[0m_setitem_with_indexer_2d_value\u001b[0m\u001b[1;33m(\u001b[0m\u001b[0mself\u001b[0m\u001b[1;33m,\u001b[0m \u001b[0mindexer\u001b[0m\u001b[1;33m,\u001b[0m \u001b[0mvalue\u001b[0m\u001b[1;33m)\u001b[0m\u001b[1;33m:\u001b[0m\u001b[1;33m\u001b[0m\u001b[1;33m\u001b[0m\u001b[0m\n",
      "\u001b[1;32m~\\anaconda3\\lib\\site-packages\\pandas\\core\\indexing.py\u001b[0m in \u001b[0;36m_setitem_single_column\u001b[1;34m(self, loc, value, plane_indexer)\u001b[0m\n\u001b[0;32m   1810\u001b[0m         \u001b[1;32melse\u001b[0m\u001b[1;33m:\u001b[0m\u001b[1;33m\u001b[0m\u001b[1;33m\u001b[0m\u001b[0m\n\u001b[0;32m   1811\u001b[0m             \u001b[1;31m# set the item, possibly having a dtype change\u001b[0m\u001b[1;33m\u001b[0m\u001b[1;33m\u001b[0m\u001b[1;33m\u001b[0m\u001b[0m\n\u001b[1;32m-> 1812\u001b[1;33m             \u001b[0mser\u001b[0m \u001b[1;33m=\u001b[0m \u001b[0mser\u001b[0m\u001b[1;33m.\u001b[0m\u001b[0mcopy\u001b[0m\u001b[1;33m(\u001b[0m\u001b[1;33m)\u001b[0m\u001b[1;33m\u001b[0m\u001b[1;33m\u001b[0m\u001b[0m\n\u001b[0m\u001b[0;32m   1813\u001b[0m             \u001b[0mser\u001b[0m\u001b[1;33m.\u001b[0m\u001b[0m_mgr\u001b[0m \u001b[1;33m=\u001b[0m \u001b[0mser\u001b[0m\u001b[1;33m.\u001b[0m\u001b[0m_mgr\u001b[0m\u001b[1;33m.\u001b[0m\u001b[0msetitem\u001b[0m\u001b[1;33m(\u001b[0m\u001b[0mindexer\u001b[0m\u001b[1;33m=\u001b[0m\u001b[1;33m(\u001b[0m\u001b[0mpi\u001b[0m\u001b[1;33m,\u001b[0m\u001b[1;33m)\u001b[0m\u001b[1;33m,\u001b[0m \u001b[0mvalue\u001b[0m\u001b[1;33m=\u001b[0m\u001b[0mvalue\u001b[0m\u001b[1;33m)\u001b[0m\u001b[1;33m\u001b[0m\u001b[1;33m\u001b[0m\u001b[0m\n\u001b[0;32m   1814\u001b[0m             \u001b[0mser\u001b[0m\u001b[1;33m.\u001b[0m\u001b[0m_maybe_update_cacher\u001b[0m\u001b[1;33m(\u001b[0m\u001b[0mclear\u001b[0m\u001b[1;33m=\u001b[0m\u001b[1;32mTrue\u001b[0m\u001b[1;33m)\u001b[0m\u001b[1;33m\u001b[0m\u001b[1;33m\u001b[0m\u001b[0m\n",
      "\u001b[1;32m~\\anaconda3\\lib\\site-packages\\pandas\\core\\generic.py\u001b[0m in \u001b[0;36mcopy\u001b[1;34m(self, deep)\u001b[0m\n\u001b[0;32m   5993\u001b[0m         \u001b[0mdtype\u001b[0m\u001b[1;33m:\u001b[0m \u001b[0mobject\u001b[0m\u001b[1;33m\u001b[0m\u001b[1;33m\u001b[0m\u001b[0m\n\u001b[0;32m   5994\u001b[0m         \"\"\"\n\u001b[1;32m-> 5995\u001b[1;33m         \u001b[0mdata\u001b[0m \u001b[1;33m=\u001b[0m \u001b[0mself\u001b[0m\u001b[1;33m.\u001b[0m\u001b[0m_mgr\u001b[0m\u001b[1;33m.\u001b[0m\u001b[0mcopy\u001b[0m\u001b[1;33m(\u001b[0m\u001b[0mdeep\u001b[0m\u001b[1;33m=\u001b[0m\u001b[0mdeep\u001b[0m\u001b[1;33m)\u001b[0m\u001b[1;33m\u001b[0m\u001b[1;33m\u001b[0m\u001b[0m\n\u001b[0m\u001b[0;32m   5996\u001b[0m         \u001b[0mself\u001b[0m\u001b[1;33m.\u001b[0m\u001b[0m_clear_item_cache\u001b[0m\u001b[1;33m(\u001b[0m\u001b[1;33m)\u001b[0m\u001b[1;33m\u001b[0m\u001b[1;33m\u001b[0m\u001b[0m\n\u001b[0;32m   5997\u001b[0m         \u001b[1;32mreturn\u001b[0m \u001b[0mself\u001b[0m\u001b[1;33m.\u001b[0m\u001b[0m_constructor\u001b[0m\u001b[1;33m(\u001b[0m\u001b[0mdata\u001b[0m\u001b[1;33m)\u001b[0m\u001b[1;33m.\u001b[0m\u001b[0m__finalize__\u001b[0m\u001b[1;33m(\u001b[0m\u001b[0mself\u001b[0m\u001b[1;33m,\u001b[0m \u001b[0mmethod\u001b[0m\u001b[1;33m=\u001b[0m\u001b[1;34m\"copy\"\u001b[0m\u001b[1;33m)\u001b[0m\u001b[1;33m\u001b[0m\u001b[1;33m\u001b[0m\u001b[0m\n",
      "\u001b[1;32m~\\anaconda3\\lib\\site-packages\\pandas\\core\\internals\\managers.py\u001b[0m in \u001b[0;36mcopy\u001b[1;34m(self, deep)\u001b[0m\n\u001b[0;32m    819\u001b[0m             \u001b[0mnew_axes\u001b[0m \u001b[1;33m=\u001b[0m \u001b[0mlist\u001b[0m\u001b[1;33m(\u001b[0m\u001b[0mself\u001b[0m\u001b[1;33m.\u001b[0m\u001b[0maxes\u001b[0m\u001b[1;33m)\u001b[0m\u001b[1;33m\u001b[0m\u001b[1;33m\u001b[0m\u001b[0m\n\u001b[0;32m    820\u001b[0m \u001b[1;33m\u001b[0m\u001b[0m\n\u001b[1;32m--> 821\u001b[1;33m         \u001b[0mres\u001b[0m \u001b[1;33m=\u001b[0m \u001b[0mself\u001b[0m\u001b[1;33m.\u001b[0m\u001b[0mapply\u001b[0m\u001b[1;33m(\u001b[0m\u001b[1;34m\"copy\"\u001b[0m\u001b[1;33m,\u001b[0m \u001b[0mdeep\u001b[0m\u001b[1;33m=\u001b[0m\u001b[0mdeep\u001b[0m\u001b[1;33m)\u001b[0m\u001b[1;33m\u001b[0m\u001b[1;33m\u001b[0m\u001b[0m\n\u001b[0m\u001b[0;32m    822\u001b[0m         \u001b[0mres\u001b[0m\u001b[1;33m.\u001b[0m\u001b[0maxes\u001b[0m \u001b[1;33m=\u001b[0m \u001b[0mnew_axes\u001b[0m\u001b[1;33m\u001b[0m\u001b[1;33m\u001b[0m\u001b[0m\n\u001b[0;32m    823\u001b[0m         \u001b[1;32mreturn\u001b[0m \u001b[0mres\u001b[0m\u001b[1;33m\u001b[0m\u001b[1;33m\u001b[0m\u001b[0m\n",
      "\u001b[1;32m~\\anaconda3\\lib\\site-packages\\pandas\\core\\internals\\managers.py\u001b[0m in \u001b[0;36mapply\u001b[1;34m(self, f, align_keys, ignore_failures, **kwargs)\u001b[0m\n\u001b[0;32m    425\u001b[0m                     \u001b[0mapplied\u001b[0m \u001b[1;33m=\u001b[0m \u001b[0mb\u001b[0m\u001b[1;33m.\u001b[0m\u001b[0mapply\u001b[0m\u001b[1;33m(\u001b[0m\u001b[0mf\u001b[0m\u001b[1;33m,\u001b[0m \u001b[1;33m**\u001b[0m\u001b[0mkwargs\u001b[0m\u001b[1;33m)\u001b[0m\u001b[1;33m\u001b[0m\u001b[1;33m\u001b[0m\u001b[0m\n\u001b[0;32m    426\u001b[0m                 \u001b[1;32melse\u001b[0m\u001b[1;33m:\u001b[0m\u001b[1;33m\u001b[0m\u001b[1;33m\u001b[0m\u001b[0m\n\u001b[1;32m--> 427\u001b[1;33m                     \u001b[0mapplied\u001b[0m \u001b[1;33m=\u001b[0m \u001b[0mgetattr\u001b[0m\u001b[1;33m(\u001b[0m\u001b[0mb\u001b[0m\u001b[1;33m,\u001b[0m \u001b[0mf\u001b[0m\u001b[1;33m)\u001b[0m\u001b[1;33m(\u001b[0m\u001b[1;33m**\u001b[0m\u001b[0mkwargs\u001b[0m\u001b[1;33m)\u001b[0m\u001b[1;33m\u001b[0m\u001b[1;33m\u001b[0m\u001b[0m\n\u001b[0m\u001b[0;32m    428\u001b[0m             \u001b[1;32mexcept\u001b[0m \u001b[1;33m(\u001b[0m\u001b[0mTypeError\u001b[0m\u001b[1;33m,\u001b[0m \u001b[0mNotImplementedError\u001b[0m\u001b[1;33m)\u001b[0m\u001b[1;33m:\u001b[0m\u001b[1;33m\u001b[0m\u001b[1;33m\u001b[0m\u001b[0m\n\u001b[0;32m    429\u001b[0m                 \u001b[1;32mif\u001b[0m \u001b[1;32mnot\u001b[0m \u001b[0mignore_failures\u001b[0m\u001b[1;33m:\u001b[0m\u001b[1;33m\u001b[0m\u001b[1;33m\u001b[0m\u001b[0m\n",
      "\u001b[1;32m~\\anaconda3\\lib\\site-packages\\pandas\\core\\internals\\blocks.py\u001b[0m in \u001b[0;36mcopy\u001b[1;34m(self, deep)\u001b[0m\n\u001b[0;32m    754\u001b[0m         \u001b[0mvalues\u001b[0m \u001b[1;33m=\u001b[0m \u001b[0mself\u001b[0m\u001b[1;33m.\u001b[0m\u001b[0mvalues\u001b[0m\u001b[1;33m\u001b[0m\u001b[1;33m\u001b[0m\u001b[0m\n\u001b[0;32m    755\u001b[0m         \u001b[1;32mif\u001b[0m \u001b[0mdeep\u001b[0m\u001b[1;33m:\u001b[0m\u001b[1;33m\u001b[0m\u001b[1;33m\u001b[0m\u001b[0m\n\u001b[1;32m--> 756\u001b[1;33m             \u001b[0mvalues\u001b[0m \u001b[1;33m=\u001b[0m \u001b[0mvalues\u001b[0m\u001b[1;33m.\u001b[0m\u001b[0mcopy\u001b[0m\u001b[1;33m(\u001b[0m\u001b[1;33m)\u001b[0m\u001b[1;33m\u001b[0m\u001b[1;33m\u001b[0m\u001b[0m\n\u001b[0m\u001b[0;32m    757\u001b[0m         \u001b[1;32mreturn\u001b[0m \u001b[0mself\u001b[0m\u001b[1;33m.\u001b[0m\u001b[0mmake_block_same_class\u001b[0m\u001b[1;33m(\u001b[0m\u001b[0mvalues\u001b[0m\u001b[1;33m,\u001b[0m \u001b[0mndim\u001b[0m\u001b[1;33m=\u001b[0m\u001b[0mself\u001b[0m\u001b[1;33m.\u001b[0m\u001b[0mndim\u001b[0m\u001b[1;33m)\u001b[0m\u001b[1;33m\u001b[0m\u001b[1;33m\u001b[0m\u001b[0m\n\u001b[0;32m    758\u001b[0m \u001b[1;33m\u001b[0m\u001b[0m\n",
      "\u001b[1;31mKeyboardInterrupt\u001b[0m: "
     ]
    }
   ],
   "source": [
    "# #pegar linha da ação\n",
    "df_sorted = df_geral_comunicado.sort_values(['contrato_id', 'dt_ref_portfolio']).reset_index(drop=True)\n",
    "\n",
    "#get index of not null messages\n",
    "index_mensagem = df_sorted.loc[~df_sorted['status'].isna(), :].index\n",
    "\n",
    "index_mensagem_expanded = index_mensagem\n",
    "#create index list expanded\n",
    "\n",
    "index_aux = index_mensagem + 1\n",
    "index_mensagem_expanded = index_mensagem_expanded.append(index_aux)\n",
    "index_aux+=1\n",
    "index_mensagem_expanded = index_mensagem_expanded.append(index_aux)\n",
    "index_aux+=1\n",
    "index_mensagem_expanded = index_mensagem_expanded.append(index_aux)\n",
    "index_aux+=1\n",
    "index_mensagem_expanded = index_mensagem_expanded.append(index_aux)\n",
    "index_aux+=1\n",
    "index_mensagem_expanded = index_mensagem_expanded.append(index_aux)\n",
    "\n",
    "\n",
    "#get df mensagem\n",
    "df_mensagem = df_sorted.iloc[index_mensagem_expanded, :].sort_values(['contrato_id', 'dt_ref_portfolio']).drop_duplicates().reset_index(drop=True)\n",
    "\n",
    "#get index das mensagens \n",
    "index_mensagem = df_mensagem.loc[df_mensagem['status'].isin(['LIDO', 'RESPONDIDO']), :].index\n",
    "\n",
    "#create eficiencia\n",
    "for index, i in enumerate(index_mensagem):\n",
    "#     print(f'{index}/{len(index_mensagem)}')\n",
    "    \n",
    "    if df_mensagem.loc[i,'status']: #se status existe\n",
    "\n",
    "        if df_mensagem.loc[i,'dsp']==0:   #se dsp ==0, passa\n",
    "            pass\n",
    "\n",
    "        else:                               #se dsp!=0, verifica os proximos 5 se vai ser igual a 0\n",
    "            for i2 in range(i+1, i+6):\n",
    "                if df_mensagem.loc[i2, 'dsp']==0:\n",
    "\n",
    "                    df_mensagem.loc[i,'eficiencia']=1\n",
    "    \n",
    "                    if df_mensagem.loc[i2, 'dspp']==0:\n",
    "                        df_mensagem.loc[i,'eficiencia']=2\n",
    "                        \n",
    "                else: \n",
    "                    pass\n",
    "        \n",
    "\n",
    "#fill null with 0\n",
    "df_mensagem['eficiencia'] = df_mensagem['eficiencia'].fillna(0)\n",
    "\n"
   ]
  },
  {
   "cell_type": "markdown",
   "id": "7c0f2892",
   "metadata": {},
   "source": [
    "## 4.2 Criação da df_lido\n"
   ]
  },
  {
   "cell_type": "markdown",
   "id": "5287a3da",
   "metadata": {},
   "source": [
    "Um dataframe chamado df_lido foi criado apenas com as linhas do df_geral que continha uma comunicação com status “LIDO”/”RESPONDIDO” e os 5 registros seguintes. O objetivo desse dataframe é observar o efeito da comunicação nos 5 dias seguintes, através do dsp e dspp."
   ]
  },
  {
   "cell_type": "code",
   "execution_count": null,
   "id": "711f410c",
   "metadata": {
    "ExecuteTime": {
     "end_time": "2022-05-03T12:08:36.193961Z",
     "start_time": "2022-05-03T12:06:59.584Z"
    }
   },
   "outputs": [],
   "source": [
    "# #pegar linha da ação\n",
    "df_sorted = df_geral_comunicado.sort_values(['contrato_id', 'dt_ref_portfolio']).reset_index(drop=True)\n",
    "\n",
    "#get index of not null messages\n",
    "index_lido = df_sorted.loc[df_sorted['status'].isin(['LIDO','RESPONDIDO']), :].index\n",
    "\n",
    "index_lido_expanded = index_lido\n",
    "#create index list expanded\n",
    "\n",
    "index_aux = index_lido + 1\n",
    "index_lido_expanded = index_lido_expanded.append(index_aux)\n",
    "index_aux+=1\n",
    "index_lido_expanded = index_lido_expanded.append(index_aux)\n",
    "index_aux+=1\n",
    "index_lido_expanded = index_lido_expanded.append(index_aux)\n",
    "index_aux+=1\n",
    "index_lido_expanded = index_lido_expanded.append(index_aux)\n",
    "index_aux+=1\n",
    "index_lido_expanded = index_lido_expanded.append(index_aux)\n",
    "\n",
    "\n",
    "#get df lido\n",
    "df_lido = df_sorted.iloc[index_lido_expanded, :].sort_values(['contrato_id', 'dt_ref_portfolio']).drop_duplicates().reset_index(drop=True)\n",
    "\n",
    "#get index das mensagens \n",
    "index_lido = df_lido.loc[df_lido['status'].isin(['LIDO', 'RESPONDIDO']), :].index\n",
    "\n",
    "#create eficiencia\n",
    "for index, i in enumerate(index_lido):\n",
    "#     print(f'{index}/{len(index_lido)}')\n",
    "    \n",
    "    if df_lido.loc[i,'status']: #se status existe\n",
    "\n",
    "        if df_lido.loc[i,'dsp']==0:   #se dsp ==0, passa\n",
    "            pass\n",
    "\n",
    "        else:                               #se dsp!=0, verifica os proximos 5 se vai ser igual a 0\n",
    "            for i2 in range(i+1, i+6):\n",
    "                if df_lido.loc[i2, 'dsp']==0:\n",
    "\n",
    "                    df_lido.loc[i,'eficiencia']=1\n",
    "    \n",
    "                    if df_lido.loc[i2, 'dspp']==0:\n",
    "                        df_lido.loc[i,'eficiencia']=2\n",
    "                        \n",
    "                else: \n",
    "                    pass\n",
    "        \n",
    "\n",
    "#fill null with 0\n",
    "df_lido['eficiencia'] = df_lido['eficiencia'].fillna(0)\n",
    "\n"
   ]
  },
  {
   "cell_type": "markdown",
   "id": "e12cab6c",
   "metadata": {},
   "source": [
    "## 4.3. Criação do df_inadimplentes"
   ]
  },
  {
   "cell_type": "code",
   "execution_count": 70,
   "id": "5b203011",
   "metadata": {
    "ExecuteTime": {
     "end_time": "2022-05-03T12:09:15.454495Z",
     "start_time": "2022-05-03T12:09:15.415077Z"
    }
   },
   "outputs": [],
   "source": [
    "df_inadimplentes = df_contrato[df_contrato['status_contrato']!='Settled']"
   ]
  },
  {
   "cell_type": "markdown",
   "id": "c19d53d6",
   "metadata": {},
   "source": [
    "# 5.0. Exportar para csv"
   ]
  },
  {
   "cell_type": "code",
   "execution_count": null,
   "id": "3004cf86",
   "metadata": {
    "ExecuteTime": {
     "start_time": "2022-05-03T12:09:27.360Z"
    }
   },
   "outputs": [],
   "source": [
    "df_contrato.to_csv('../data/new_dfs/df_contrato.csv', index=False)\n",
    "df_geral.to_csv('../data/new_dfs/df_geral.csv', index=False)\n",
    "df_geral_comunicado.to_csv('../data/new_dfs/df_geral_comunicado.csv', index=False)\n",
    "df_lido.to_csv('../data/new_dfs/df_lido.csv', index=False)\n",
    "df_mensagem.to_csv('../data/new_dfs/df_mensagem.csv', index=False)\n",
    "df_inadimplentes.to_csv('../data/new_dfs/df_inadimplentes.csv', index=False)"
   ]
  },
  {
   "cell_type": "markdown",
   "id": "692f887c",
   "metadata": {},
   "source": [
    "# 6.0. DataFrame previews"
   ]
  },
  {
   "cell_type": "markdown",
   "id": "9d505fc6",
   "metadata": {},
   "source": [
    "## 6.1. Df_Contrato\n"
   ]
  },
  {
   "cell_type": "code",
   "execution_count": null,
   "id": "998d12ed",
   "metadata": {
    "ExecuteTime": {
     "start_time": "2022-05-03T12:09:38.898Z"
    }
   },
   "outputs": [],
   "source": [
    "df_contrato.head()"
   ]
  },
  {
   "cell_type": "markdown",
   "id": "ccac575d",
   "metadata": {},
   "source": [
    "## 6.2. Df_geral"
   ]
  },
  {
   "cell_type": "code",
   "execution_count": null,
   "id": "7ad0ea3f",
   "metadata": {
    "ExecuteTime": {
     "start_time": "2022-05-03T12:09:39.216Z"
    }
   },
   "outputs": [],
   "source": [
    "df_geral.head()"
   ]
  },
  {
   "cell_type": "markdown",
   "id": "87c79094",
   "metadata": {},
   "source": [
    "## 6.3. Df_geral_comunicado"
   ]
  },
  {
   "cell_type": "code",
   "execution_count": null,
   "id": "8c2dc710",
   "metadata": {
    "ExecuteTime": {
     "start_time": "2022-05-03T12:09:39.479Z"
    }
   },
   "outputs": [],
   "source": [
    "df_geral_comunicado.head()"
   ]
  },
  {
   "cell_type": "markdown",
   "id": "74c6bfa1",
   "metadata": {},
   "source": [
    "## 6.4. Df_lido"
   ]
  },
  {
   "cell_type": "code",
   "execution_count": null,
   "id": "0c9a4163",
   "metadata": {
    "ExecuteTime": {
     "start_time": "2022-05-03T12:09:39.666Z"
    }
   },
   "outputs": [],
   "source": [
    "df_lido.head()"
   ]
  },
  {
   "cell_type": "markdown",
   "id": "bc86eb9b",
   "metadata": {},
   "source": [
    "## 6.5. Df_mensagem"
   ]
  },
  {
   "cell_type": "code",
   "execution_count": null,
   "id": "be4d8a04",
   "metadata": {
    "ExecuteTime": {
     "end_time": "2022-05-03T12:08:36.247816Z",
     "start_time": "2022-05-03T12:07:07.260Z"
    }
   },
   "outputs": [],
   "source": [
    "df_mensagem.head()"
   ]
  },
  {
   "cell_type": "markdown",
   "id": "570b0e16",
   "metadata": {},
   "source": [
    "## 6.6. Df_inadimplentes"
   ]
  },
  {
   "cell_type": "code",
   "execution_count": null,
   "id": "4e821f35",
   "metadata": {
    "ExecuteTime": {
     "end_time": "2022-05-03T12:08:36.253800Z",
     "start_time": "2022-05-03T12:07:08.701Z"
    }
   },
   "outputs": [],
   "source": [
    "df_inadimplentes.head()"
   ]
  },
  {
   "cell_type": "code",
   "execution_count": null,
   "id": "4f96dcf4",
   "metadata": {},
   "outputs": [],
   "source": []
  }
 ],
 "metadata": {
  "kernelspec": {
   "display_name": "Python 3",
   "language": "python",
   "name": "python3"
  },
  "language_info": {
   "codemirror_mode": {
    "name": "ipython",
    "version": 3
   },
   "file_extension": ".py",
   "mimetype": "text/x-python",
   "name": "python",
   "nbconvert_exporter": "python",
   "pygments_lexer": "ipython3",
   "version": "3.8.8"
  },
  "varInspector": {
   "cols": {
    "lenName": 16,
    "lenType": 16,
    "lenVar": 40
   },
   "kernels_config": {
    "python": {
     "delete_cmd_postfix": "",
     "delete_cmd_prefix": "del ",
     "library": "var_list.py",
     "varRefreshCmd": "print(var_dic_list())"
    },
    "r": {
     "delete_cmd_postfix": ") ",
     "delete_cmd_prefix": "rm(",
     "library": "var_list.r",
     "varRefreshCmd": "cat(var_dic_list()) "
    }
   },
   "types_to_exclude": [
    "module",
    "function",
    "builtin_function_or_method",
    "instance",
    "_Feature"
   ],
   "window_display": false
  }
 },
 "nbformat": 4,
 "nbformat_minor": 5
}
